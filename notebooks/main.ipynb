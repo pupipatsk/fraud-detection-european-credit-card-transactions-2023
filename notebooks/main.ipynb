{
 "cells": [
  {
   "cell_type": "markdown",
   "metadata": {},
   "source": [
    "# import"
   ]
  },
  {
   "cell_type": "code",
   "execution_count": 1,
   "metadata": {},
   "outputs": [],
   "source": [
    "# --- iPython Config --- #\n",
    "from IPython import get_ipython\n",
    "if 'IPython.extensions.autoreload' not in get_ipython().extension_manager.loaded:\n",
    "    get_ipython().run_line_magic('load_ext', 'autoreload')\n",
    "else:\n",
    "    get_ipython().run_line_magic('reload_ext', 'autoreload')\n",
    "%autoreload 2\n",
    "\n",
    "# --- System and Path --- #\n",
    "import os\n",
    "import sys\n",
    "repo_path = os.path.dirname(os.getcwd())\n",
    "if repo_path not in sys.path:\n",
    "    sys.path.append(repo_path)\n",
    "\n",
    "# --- Standard Libraries --- #\n",
    "import warnings\n",
    "warnings.filterwarnings('ignore')\n",
    "\n",
    "# --- Custom Modules --- #\n",
    "from src.data import dataloader\n",
    "from src.data.data_processor import DataProcessor\n",
    "from src.models import MultiTrainer, LogisticRegressionModel, XGBoostModel"
   ]
  },
  {
   "cell_type": "code",
   "execution_count": 2,
   "metadata": {},
   "outputs": [
    {
     "name": "stdout",
     "output_type": "stream",
     "text": [
      "Memory usage: Before=134.49MB -> After=65.62MB, Decreased by 51.2%\n",
      "Data loaded successfully.\n"
     ]
    }
   ],
   "source": [
    "# Load Data\n",
    "file_path = os.path.join(repo_path, \"data\", \"raw\", \"dataset.parquet\")\n",
    "df_dataset = dataloader.load_data(file_path)"
   ]
  },
  {
   "cell_type": "code",
   "execution_count": 3,
   "metadata": {},
   "outputs": [],
   "source": [
    "# Data Processing\n",
    "data_processor = DataProcessor()\n",
    "df_train, df_test = data_processor.process(df_dataset, target=\"Class\")"
   ]
  },
  {
   "cell_type": "code",
   "execution_count": 4,
   "metadata": {},
   "outputs": [
    {
     "name": "stdout",
     "output_type": "stream",
     "text": [
      "Training LogisticRegression...\n",
      "Model saved to /Users/pupipatsingkhorn/Developer/repositories/fraud-detection-european-credit-card-transactions-2023/models/2025-02-16-2340-LogisticRegressionModel.pkl\n",
      "Training time LogisticRegression: 1.53 seconds.\n",
      "Training XGBoost...\n",
      "Model saved to /Users/pupipatsingkhorn/Developer/repositories/fraud-detection-european-credit-card-transactions-2023/models/2025-02-16-2340-XGBoostModel.pkl\n",
      "Training time XGBoost: 1.64 seconds.\n",
      "TRAIN | LogisticRegression recall: 0.9517\n",
      "TRAIN | XGBoost recall: 1.0000\n",
      "TEST | LogisticRegression recall: 0.9511\n",
      "TEST | XGBoost recall: 1.0000\n"
     ]
    },
    {
     "data": {
      "text/plain": [
       "{'train': {'LogisticRegression': {'precision': 0.9778115953085538,\n",
       "   'recall': 0.9516929546200622,\n",
       "   'f1': 0.9645754981353962,\n",
       "   'accuracy': 0.9650485474835228,\n",
       "   'roc_auc': 0.9935839474162925},\n",
       "  'XGBoost': {'precision': 0.99997655242487,\n",
       "   'recall': 1.0,\n",
       "   'f1': 0.9999882760749862,\n",
       "   'accuracy': 0.9999882759146252,\n",
       "   'roc_auc': 0.9999999995876375}},\n",
       " 'test': {'LogisticRegression': {'precision': 0.9765972046661129,\n",
       "   'recall': 0.951109704196124,\n",
       "   'f1': 0.9636849607982894,\n",
       "   'accuracy': 0.9641594710092679,\n",
       "   'roc_auc': 0.993271341982931},\n",
       "  'XGBoost': {'precision': 0.9994726850875343,\n",
       "   'recall': 1.0,\n",
       "   'f1': 0.9997362730101799,\n",
       "   'accuracy': 0.9997362080790673,\n",
       "   'roc_auc': 0.9999849842306959}}}"
      ]
     },
     "execution_count": 4,
     "metadata": {},
     "output_type": "execute_result"
    }
   ],
   "source": [
    "# Training\n",
    "# custom model\n",
    "models = {\"LogisticRegression\": LogisticRegressionModel(),\n",
    "          \"XGBoost\": XGBoostModel()}\n",
    "# Initialize trainer\n",
    "multi_trainer = MultiTrainer(\n",
    "    df_train,\n",
    "    df_test,\n",
    "    target=\"Class\",\n",
    "    models=models,\n",
    "    main_metric=\"recall\",\n",
    "    output_dir=os.path.join(repo_path, \"models\"),\n",
    ")\n",
    "multi_trainer.train_all_models(tune_params=False)\n",
    "multi_trainer.evaluate_all_models()"
   ]
  }
 ],
 "metadata": {
  "kernelspec": {
   "display_name": "Python (venv)",
   "language": "python",
   "name": "venv"
  },
  "language_info": {
   "codemirror_mode": {
    "name": "ipython",
    "version": 3
   },
   "file_extension": ".py",
   "mimetype": "text/x-python",
   "name": "python",
   "nbconvert_exporter": "python",
   "pygments_lexer": "ipython3",
   "version": "3.11.5"
  }
 },
 "nbformat": 4,
 "nbformat_minor": 2
}
